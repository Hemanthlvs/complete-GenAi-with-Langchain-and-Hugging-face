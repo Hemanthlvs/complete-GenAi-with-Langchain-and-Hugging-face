{
 "cells": [
  {
   "cell_type": "code",
   "execution_count": 1,
   "id": "f70d3f13",
   "metadata": {},
   "outputs": [],
   "source": [
    "import os\n",
    "from dotenv import load_dotenv\n",
    "load_dotenv()\n",
    "\n",
    "os.environ['OPENAI_API_KEY'] = os.getenv('OPENAI_API_KEY')\n",
    "#langsmith tracking\n",
    "os.environ['LANGCHAIN_API_KEY'] = os.getenv('LANGCHAIN_API_KEY')\n",
    "os.environ[\"LANGCHAIN_TRACING_V2\"] = \"true\"\n",
    "os.environ['LANGCHAIN_PROJECT'] = os.getenv('LANGCHAIN_PROJECT')"
   ]
  },
  {
   "cell_type": "code",
   "execution_count": 2,
   "id": "ba55c48a",
   "metadata": {},
   "outputs": [
    {
     "name": "stderr",
     "output_type": "stream",
     "text": [
      "USER_AGENT environment variable not set, consider setting it to identify your requests.\n"
     ]
    },
    {
     "data": {
      "text/plain": [
       "[Document(metadata={'source': 'https://thecinemaholic.com/best-animal-documentaries-on-netflix/', 'title': '15 Best Animal Documentaries on Netflix Right Now', 'language': 'en-US'}, page_content='\\n\\n\\n\\n\\n\\n\\n\\n\\n\\n\\n\\n\\n15 Best Animal Documentaries on Netflix Right Now\\n\\n\\n\\n\\n\\n\\n\\n\\n\\n\\n\\n\\n\\n\\n\\n\\n\\n\\n\\n\\n\\n\\n\\n\\n\\n\\n\\n\\n\\n\\n\\n\\n\\n\\n\\n\\n\\n\\n\\n\\n\\n\\n\\n\\n\\n\\n\\n\\n\\n\\n\\n\\n\\n\\n\\n\\n\\n\\n\\n\\n\\n\\n\\n\\n\\n\\n\\n\\n\\n\\n\\n\\n\\n\\n\\n\\n\\n\\n\\n\\n\\n\\n\\n\\n\\n\\nSubscribe\\n\\n\\n\\n\\n\\n\\n\\n\\n\\n\\n\\nSEARCH\\n\\n\\n\\n\\n\\n\\n \\n \\n\\n\\n\\nMovie News\\nTV News\\nUpcoming\\nWhat to Watch\\n\\nNetflix\\nHBO Max\\nPrime Video\\nHulu\\nApple TV+\\nDisney+\\nPeacock\\nParamount+\\n\\n\\nMovie Explainers\\nTV Explainers\\nRecaps\\nAbout Us\\n  \\n     \\n\\n     \\n \\n\\n \\n\\n\\n\\n\\n\\n\\n15 Best Animal Documentaries on Netflix (August 2025) \\n Harsh Vardhan\\nUpdated August 29, 2025\\n\\n\\n\\n\\nFacebookTwitterPinterestRedditEmail \\n\\n\\n\\n\\n\\n\\n\\n\\n\\n\\n\\n\\n \\n\\n\\n\\n\\n\\n\\n\\n\\n\\nExploring the natural world through captivating storytelling and breathtaking cinematography, Netflix offers a treasure trove of animal documentaries that both educate and inspire. From the depths of the ocean to the heart of the savannah, these documentaries provide an intimate glimpse into the lives of Earth’s most fascinating creatures. Whether you’re a wildlife enthusiast, a nature lover, or simply seeking a mesmerizing escape into the wild, this curated selection of the best animal documentaries on Netflix is your passport to a world of untamed beauty and awe-inspiring wildlife encounters. Join us on this virtual safari as we embark on a journey of discovery and appreciation for our planet’s incredible biodiversity.\\n\\n\\n\\n\\n\\n15. Tiny Creatures (2020)\\n\\nCreated by Jonathan Jones and narrated by Mike Colter, ‘Tiny Creatures’ is a fake documentary. For those wondering whether it lies to your face, it doesn’t. The docuseries is scripted, and each of the 8 episodes has a different and unique story told from the perspective of the Earth’s smallest creatures. From critters to a golden hamster to a duckling, the series explores an ecosystem that is invisible to our eyes but is equally captivating and dangerous, if not more, one where only the quickest survive. You can stream the series here.\\n14. Night on Earth (2020)\\n\\nThis 6-part limited nature documentary explores nature at night. Using cutting-edge low-light camera technology, the makers take us on a visually stunning exploration of the different forms of life against the starry skies. As we travel among forests, deserts, and seas, we see how animals, fish, insects, and other organisms reveal a different side of them as the sun sets. We join them on their respective expeditions. Narrated by Samira Wiley (English), ‘Night on Earth’ can be streamed here.\\n13. Wild Babies (2022)\\n\\nThis cuddly docuseries features baby animals from across the world born in different environments and have to learn their respective ways of life. Narrated by Academy Award nominee Helena Bonham Carter, ‘Wild Babies’ has eight episodes, each of around 30 minutes, and features a baby fur seal named Tabo, who hails from Namibia, a female lion cub named Kaya, who hails from South Africa; we have Mina, a baby Orangutan from Indonesia, Quito, a baby mongoose and Silver, an Arctic fox, among others. You can stream ‘Wild Babies’ here.\\n12. Life in Colour (2021)\\n\\nThis mini-series is narrated by world-renowned biologist and natural historian David Attenborough. The 3-episode show delves deep into the colors present in nature as seen and perceived by animals. Using special cameras, we get to see different habits and the plant and animal life that inhabit them, along with their survival strategies. A nature documentary that won’t take much of your time, ‘Life in Colour’ is a must-watch. You can stream it here.\\n11. Life on Our Planet (2023)\\n\\nExecutive-produced by Steven Spielberg, ‘Life on Our Planet’ is an 8-episode docuseries that showcases the evolution of life since it first appeared on Earth till today. Spanning across all the geologic periods, it explores the numerous life forms, ranging from Tyrannosaurus and caterpillars to snow leopards and baboons. Each episode shows jumps to-and-fro between the past (CGI) and present (live footage videography). The narration has been done by Morgan Freeman. You can watch the series here.\\n10. The Elephant Whisperers (2022)\\n\\nUnder the directorial lens of Kartiki Gonsalves, ‘The Elephant Whisperers‘ unfolds the compelling tale of Bomman and Bellie, an indigenous couple entrusted with the care of an orphaned Indian elephant calf named Raghu. Faced with the daunting challenge of nurturing this fragile, injured infant to robust juvenility, the couple’s unwavering dedication is nothing short of remarkable. As they pour their hearts into Raghu’s well-being, a profound and unbreakable bond blossoms between them and the young elephant, revealing the extraordinary power of love and understanding in the realm of human-animal relationships. You may watch the film here.\\n9. Inside the Mind of a Cat (2022)\\n\\nIn the intriguing documentary ‘Inside the Mind of a Cat,’ cat experts embark on a fascinating exploration of feline cognition, unveiling the true abilities of our beloved pouncing pets. Directed by the talented Andy Mitchell, the film features Neil Wilson’s engaging narration. This captivating and cuddly journey delves into the intricate workings of a cat’s mind, offering viewers a profound understanding of their intelligence, instincts, and unique behaviors. Through insightful analysis and heartwarming moments, the documentary unveils the remarkable world of these enigmatic creatures, providing a delightful and enlightening experience for cat enthusiasts and curious minds alike. You can stream ‘Inside the Mind of a Cat’ here.\\n8. 72 Dangerous Animals: Latin America (2017)\\n\\n’72 Dangerous Animals: Latin America’ is a thrilling wildlife documentary series that plunges into the perilous creatures inhabiting the diverse landscapes of Latin America. Narrated by dynamic wildlife enthusiast Bob Brisbane, the show takes viewers on an exhilarating journey through this vibrant region. Each episode is an adrenaline-pumping exploration of the continent’s most venomous, cunning, and formidable animals.\\nFrom the Amazon rainforest to the Andes Mountains, the series uncovers the dangerous predators and survival strategies that make Latin America’s wildlife so captivating and, at times, deadly. With stunning cinematography and expert insights, it’s a riveting look at the untamed creatures of this fascinating continent. You can stream the series here.\\n7. Chimp Empire (2023)\\n\\nUnder the direction of James Reed, ‘Chimp Empire‘ unfolds as a captivating Netflix television series featuring the mellifluous narration of Mahershala Ali. Set amidst the lush Ngogo rainforest, the series offers an intimate portrayal of rival chimpanzee groups. Specifically, ‘Chimp Empire’ focuses on the Ngogo chimpanzees, a record-breaking assemblage of these remarkable primates.\\nThroughout the series, viewers gain insight into the intricate social tapestry of the chimpanzee community, delving into their complex relationships, including the dynamics between males and females, parents and offspring, and the ever-present rivalries. Furthermore, the series delves into the challenges these chimpanzees confront, from competition for limited resources to the looming threat of poaching. You can check out the documentary series here.\\n6. The Hidden Lives of Pets (2022)\\n\\n‘The Hidden Lives of Pets’ is an enlightening documentary that offers a captivating glimpse into the intriguing world of pets. Alongside these beloved animals are their human companions, who possess a remarkable ability to communicate and connect with them, fostering their well-being. From the viral dance moves of parrots that have garnered academic interest to rats mastering tiny cars in a laboratory, all while indulging in cereal treats, the documentary reveals the astonishing talents and behaviors of these domesticated creatures. Dogs showcase their empathetic nature, while bunnies and cats demonstrate their cleverness. This engaging narrative is brought to life by the soothing narration of Hugh Bonneville, known for his role as the patriarch in Downton Abbey. You may watch the film here.\\n5. The Ivory Game (2016)\\n\\n‘The Ivory Game’ is an eye-opening wildlife documentary that exposes the dark underbelly of the illegal ivory trade, threatening the very existence of elephants. Directed by Richard Ladkani and Kief Davidson, the film takes viewers deep into the heart of Africa and China, unraveling a complex web of corruption, crime, and international intrigue. As brave activists and undercover intelligence operatives fight against poachers and trafficking syndicates, the documentary sheds light on the devastating impact of the ivory trade on elephant populations. Through intense investigative storytelling, ‘The Ivory Game’ highlights the urgent need for global awareness and collective action to save these majestic animals from extinction. You can stream it here.\\n4. Virunga (2014)\\n\\n‘Virunga,’ directed by Orlando von Einsiedel, stands as a testament to the power of resilience and compassion in the face of adversity. Set against the stunning backdrop of Virunga National Park in the war-torn Democratic Republic of Congo, this documentary unveils the courageous efforts of park rangers risking their lives to protect the last remaining mountain gorillas.\\nThrough its gripping storytelling and breathtaking visuals, the film not only sheds light on the intricate lives of these majestic creatures but also exposes the harsh realities of conservation amid political conflict and corporate greed. ‘Virunga’ is more than a documentary; it’s a heart-wrenching journey that ignites empathy, making it a remarkable animal documentary that transcends the screen, leaving a profound impact on its viewers. You can stream the film here.\\n3. Our Great National Parks (2022)\\n\\n‘Our Great National Parks’ is a captivating five-part Netflix documentary series that delves into the world’s renowned national parks and their diverse wildlife. Presented by former U.S. President Barack Obama, the series offers a mesmerizing exploration of these natural wonders. With stunning visuals and insightful narration, the show provides a deep understanding of the beauty, biodiversity, and significance of these parks, making it a must-watch for nature enthusiasts and conservation advocates. Feel free to check out the series here.\\n2. Absurd Planet (2020)\\n\\n‘Absurd Planet’ is a whimsical science series created by Paul E. Raff, offering a delightful glimpse into the lives of the world’s most fascinating creatures. Narration is provided by a cast of quirky animal characters, as well as Mother Nature herself. With a humorous twist, the show sheds light on the peculiar behaviors and survival strategies of Earth’s remarkable wildlife. ‘Absurd Planet’ is an entertaining and educational take on the animal kingdom, providing both laughs and insights for viewers of all ages. You may watch the series here.\\n1. Our Planet (2019)\\n\\n‘Our Planet,’ an awe-inspiring Netflix documentary series, stands as a testament to nature’s grandeur and fragility. Created by the renowned team behind ‘Planet Earth,’ this visually breathtaking series is narrated by the iconic Sir David Attenborough. It offers a profound exploration of Earth’s diverse habitats, showcasing rare wildlife moments with unparalleled cinematography.\\nWhat sets it apart is its poignant focus on conservation, addressing climate change, and the urgent need to preserve these habitats. This documentary’s brilliance lies in its ability to captivate, educate, and ignite a global call to protect our planet’s invaluable ecosystems. You can watch the series here.\\nRead More: Best Baseball Movies and Shows on Netflix\\n\\n\\n\\n\\nSPONSORED LINKS\\n\\n\\n\\n\\n\\n\\n\\n\\n \\n \\n\\n\\n\\n\\n\\n\\nAbout Us\\nContact Us\\nPrivacy Policy\\nTerms of Use\\nEditorial Policy\\nEthics Policy\\n\\n© 2025 Gomsy Media LLC. All rights reserved. Powered by WordPress.com VIP.\\n\\n\\n\\n\\n\\n\\n\\n\\n\\n\\n\\n\\nMovie News\\nTV News\\nUpcoming\\nWhat to Watch\\n\\nNetflix\\nHBO Max\\nPrime Video\\nHulu\\nApple TV+\\nDisney+\\nPeacock\\nParamount+\\n\\n\\nMovie Explainers\\nTV Explainers\\nRecaps\\nAbout Us\\n  \\n     \\n\\n     \\n \\n\\n\\n\\n\\n\\n\\n\\n\\n\\n\\n\\n\\n\\n\\n\\n\\xa0\\n\\n\\n\\n\\n\\n\\n\\n\\n\\n\\n\\n\\n\\n\\n\\n\\n\\n\\n\\n\\n\\n\\n\\n\\n\\n\\n\\n\\n\\n\\n\\n\\n\\n\\n\\n\\n\\n\\n\\n\\n\\n\\n\\n\\n\\n\\n\\n\\n\\n\\n\\n\\n\\n\\n\\n\\n\\n\\n\\n\\n\\n\\n\\n\\n\\n\\n\\n\\n\\n\\n\\n\\n\\n\\n\\n\\n\\n\\n\\n\\n\\n\\n\\n\\nLoading Comments...\\n\\n\\n\\n\\xa0\\n\\n\\n\\n\\t\\t\\t\\t\\t\\t\\t\\t\\t\\t\\t\\t\\tYou must be logged in to post a comment.\\t\\t\\t\\t\\t\\t\\t\\t\\t\\t\\t\\t\\n\\n\\n\\n\\n\\n\\n\\n\\n\\n\\n\\n\\n\\n\\n\\n\\n\\n\\n\\n\\n\\n\\n\\n\\n\\n\\n\\n\\n\\n\\n\\n\\n\\n\\n\\n\\n\\n\\n')]"
      ]
     },
     "execution_count": 2,
     "metadata": {},
     "output_type": "execute_result"
    }
   ],
   "source": [
    "from langchain_community.document_loaders import WebBaseLoader\n",
    "\n",
    "loaded_data = WebBaseLoader(\"https://thecinemaholic.com/best-animal-documentaries-on-netflix/\").load()\n",
    "loaded_data"
   ]
  },
  {
   "cell_type": "code",
   "execution_count": 3,
   "id": "ff5dcd07",
   "metadata": {},
   "outputs": [
    {
     "data": {
      "text/plain": [
       "[Document(metadata={'source': 'https://thecinemaholic.com/best-animal-documentaries-on-netflix/', 'title': '15 Best Animal Documentaries on Netflix Right Now', 'language': 'en-US'}, page_content='15 Best Animal Documentaries on Netflix Right Now\\n\\n\\n\\n\\n\\n\\n\\n\\n\\n\\n\\n\\n\\n\\n\\n\\n\\n\\n\\n\\n\\n\\n\\n\\n\\n\\n\\n\\n\\n\\n\\n\\n\\n\\n\\n\\n\\n\\n\\n\\n\\n\\n\\n\\n\\n\\n\\n\\n\\n\\n\\n\\n\\n\\n\\n\\n\\n\\n\\n\\n\\n\\n\\n\\n\\n\\n\\n\\n\\n\\n\\n\\n\\n\\n\\n\\n\\n\\n\\n\\n\\n\\n\\n\\n\\n\\nSubscribe\\n\\n\\n\\n\\n\\n\\n\\n\\n\\n\\n\\nSEARCH\\n\\n\\n\\n\\n\\n\\n \\n \\n\\n\\n\\nMovie News\\nTV News\\nUpcoming\\nWhat to Watch\\n\\nNetflix\\nHBO Max\\nPrime Video\\nHulu\\nApple TV+\\nDisney+\\nPeacock\\nParamount+\\n\\n\\nMovie Explainers\\nTV Explainers\\nRecaps\\nAbout Us\\n  \\n     \\n\\n     \\n \\n\\n \\n\\n\\n\\n\\n\\n\\n15 Best Animal Documentaries on Netflix (August 2025) \\n Harsh Vardhan\\nUpdated August 29, 2025\\n\\n\\n\\n\\nFacebookTwitterPinterestRedditEmail'),\n",
       " Document(metadata={'source': 'https://thecinemaholic.com/best-animal-documentaries-on-netflix/', 'title': '15 Best Animal Documentaries on Netflix Right Now', 'language': 'en-US'}, page_content='15 Best Animal Documentaries on Netflix (August 2025) \\n Harsh Vardhan\\nUpdated August 29, 2025\\n\\n\\n\\n\\nFacebookTwitterPinterestRedditEmail \\n\\n\\n\\n\\n\\n\\n\\n\\n\\n\\n\\n\\n \\n\\n\\n\\n\\n\\n\\n\\n\\n\\nExploring the natural world through captivating storytelling and breathtaking cinematography, Netflix offers a treasure trove of animal documentaries that both educate and inspire. From the depths of the ocean to the heart of the savannah, these documentaries provide an intimate glimpse into the lives of Earth’s most fascinating creatures. Whether you’re a wildlife enthusiast, a nature lover, or simply seeking a mesmerizing escape into the wild, this curated selection of the best animal documentaries on Netflix is your passport to a world of untamed beauty and awe-inspiring wildlife encounters. Join us on this virtual safari as we embark on a journey of discovery and appreciation for our planet’s incredible biodiversity.\\n\\n\\n\\n\\n\\n15. Tiny Creatures (2020)'),\n",
       " Document(metadata={'source': 'https://thecinemaholic.com/best-animal-documentaries-on-netflix/', 'title': '15 Best Animal Documentaries on Netflix Right Now', 'language': 'en-US'}, page_content='15. Tiny Creatures (2020)\\n\\nCreated by Jonathan Jones and narrated by Mike Colter, ‘Tiny Creatures’ is a fake documentary. For those wondering whether it lies to your face, it doesn’t. The docuseries is scripted, and each of the 8 episodes has a different and unique story told from the perspective of the Earth’s smallest creatures. From critters to a golden hamster to a duckling, the series explores an ecosystem that is invisible to our eyes but is equally captivating and dangerous, if not more, one where only the quickest survive. You can stream the series here.\\n14. Night on Earth (2020)'),\n",
       " Document(metadata={'source': 'https://thecinemaholic.com/best-animal-documentaries-on-netflix/', 'title': '15 Best Animal Documentaries on Netflix Right Now', 'language': 'en-US'}, page_content='This 6-part limited nature documentary explores nature at night. Using cutting-edge low-light camera technology, the makers take us on a visually stunning exploration of the different forms of life against the starry skies. As we travel among forests, deserts, and seas, we see how animals, fish, insects, and other organisms reveal a different side of them as the sun sets. We join them on their respective expeditions. Narrated by Samira Wiley (English), ‘Night on Earth’ can be streamed here.\\n13. Wild Babies (2022)'),\n",
       " Document(metadata={'source': 'https://thecinemaholic.com/best-animal-documentaries-on-netflix/', 'title': '15 Best Animal Documentaries on Netflix Right Now', 'language': 'en-US'}, page_content='This cuddly docuseries features baby animals from across the world born in different environments and have to learn their respective ways of life. Narrated by Academy Award nominee Helena Bonham Carter, ‘Wild Babies’ has eight episodes, each of around 30 minutes, and features a baby fur seal named Tabo, who hails from Namibia, a female lion cub named Kaya, who hails from South Africa; we have Mina, a baby Orangutan from Indonesia, Quito, a baby mongoose and Silver, an Arctic fox, among others. You can stream ‘Wild Babies’ here.\\n12. Life in Colour (2021)'),\n",
       " Document(metadata={'source': 'https://thecinemaholic.com/best-animal-documentaries-on-netflix/', 'title': '15 Best Animal Documentaries on Netflix Right Now', 'language': 'en-US'}, page_content='This mini-series is narrated by world-renowned biologist and natural historian David Attenborough. The 3-episode show delves deep into the colors present in nature as seen and perceived by animals. Using special cameras, we get to see different habits and the plant and animal life that inhabit them, along with their survival strategies. A nature documentary that won’t take much of your time, ‘Life in Colour’ is a must-watch. You can stream it here.\\n11. Life on Our Planet (2023)'),\n",
       " Document(metadata={'source': 'https://thecinemaholic.com/best-animal-documentaries-on-netflix/', 'title': '15 Best Animal Documentaries on Netflix Right Now', 'language': 'en-US'}, page_content='Executive-produced by Steven Spielberg, ‘Life on Our Planet’ is an 8-episode docuseries that showcases the evolution of life since it first appeared on Earth till today. Spanning across all the geologic periods, it explores the numerous life forms, ranging from Tyrannosaurus and caterpillars to snow leopards and baboons. Each episode shows jumps to-and-fro between the past (CGI) and present (live footage videography). The narration has been done by Morgan Freeman. You can watch the series here.\\n10. The Elephant Whisperers (2022)'),\n",
       " Document(metadata={'source': 'https://thecinemaholic.com/best-animal-documentaries-on-netflix/', 'title': '15 Best Animal Documentaries on Netflix Right Now', 'language': 'en-US'}, page_content='Under the directorial lens of Kartiki Gonsalves, ‘The Elephant Whisperers‘ unfolds the compelling tale of Bomman and Bellie, an indigenous couple entrusted with the care of an orphaned Indian elephant calf named Raghu. Faced with the daunting challenge of nurturing this fragile, injured infant to robust juvenility, the couple’s unwavering dedication is nothing short of remarkable. As they pour their hearts into Raghu’s well-being, a profound and unbreakable bond blossoms between them and the young elephant, revealing the extraordinary power of love and understanding in the realm of human-animal relationships. You may watch the film here.\\n9. Inside the Mind of a Cat (2022)'),\n",
       " Document(metadata={'source': 'https://thecinemaholic.com/best-animal-documentaries-on-netflix/', 'title': '15 Best Animal Documentaries on Netflix Right Now', 'language': 'en-US'}, page_content='In the intriguing documentary ‘Inside the Mind of a Cat,’ cat experts embark on a fascinating exploration of feline cognition, unveiling the true abilities of our beloved pouncing pets. Directed by the talented Andy Mitchell, the film features Neil Wilson’s engaging narration. This captivating and cuddly journey delves into the intricate workings of a cat’s mind, offering viewers a profound understanding of their intelligence, instincts, and unique behaviors. Through insightful analysis and heartwarming moments, the documentary unveils the remarkable world of these enigmatic creatures, providing a delightful and enlightening experience for cat enthusiasts and curious minds alike. You can stream ‘Inside the Mind of a Cat’ here.\\n8. 72 Dangerous Animals: Latin America (2017)'),\n",
       " Document(metadata={'source': 'https://thecinemaholic.com/best-animal-documentaries-on-netflix/', 'title': '15 Best Animal Documentaries on Netflix Right Now', 'language': 'en-US'}, page_content='’72 Dangerous Animals: Latin America’ is a thrilling wildlife documentary series that plunges into the perilous creatures inhabiting the diverse landscapes of Latin America. Narrated by dynamic wildlife enthusiast Bob Brisbane, the show takes viewers on an exhilarating journey through this vibrant region. Each episode is an adrenaline-pumping exploration of the continent’s most venomous, cunning, and formidable animals.\\nFrom the Amazon rainforest to the Andes Mountains, the series uncovers the dangerous predators and survival strategies that make Latin America’s wildlife so captivating and, at times, deadly. With stunning cinematography and expert insights, it’s a riveting look at the untamed creatures of this fascinating continent. You can stream the series here.\\n7. Chimp Empire (2023)'),\n",
       " Document(metadata={'source': 'https://thecinemaholic.com/best-animal-documentaries-on-netflix/', 'title': '15 Best Animal Documentaries on Netflix Right Now', 'language': 'en-US'}, page_content='Under the direction of James Reed, ‘Chimp Empire‘ unfolds as a captivating Netflix television series featuring the mellifluous narration of Mahershala Ali. Set amidst the lush Ngogo rainforest, the series offers an intimate portrayal of rival chimpanzee groups. Specifically, ‘Chimp Empire’ focuses on the Ngogo chimpanzees, a record-breaking assemblage of these remarkable primates.\\nThroughout the series, viewers gain insight into the intricate social tapestry of the chimpanzee community, delving into their complex relationships, including the dynamics between males and females, parents and offspring, and the ever-present rivalries. Furthermore, the series delves into the challenges these chimpanzees confront, from competition for limited resources to the looming threat of poaching. You can check out the documentary series here.\\n6. The Hidden Lives of Pets (2022)'),\n",
       " Document(metadata={'source': 'https://thecinemaholic.com/best-animal-documentaries-on-netflix/', 'title': '15 Best Animal Documentaries on Netflix Right Now', 'language': 'en-US'}, page_content='‘The Hidden Lives of Pets’ is an enlightening documentary that offers a captivating glimpse into the intriguing world of pets. Alongside these beloved animals are their human companions, who possess a remarkable ability to communicate and connect with them, fostering their well-being. From the viral dance moves of parrots that have garnered academic interest to rats mastering tiny cars in a laboratory, all while indulging in cereal treats, the documentary reveals the astonishing talents and behaviors of these domesticated creatures. Dogs showcase their empathetic nature, while bunnies and cats demonstrate their cleverness. This engaging narrative is brought to life by the soothing narration of Hugh Bonneville, known for his role as the patriarch in Downton Abbey. You may watch the film here.\\n5. The Ivory Game (2016)'),\n",
       " Document(metadata={'source': 'https://thecinemaholic.com/best-animal-documentaries-on-netflix/', 'title': '15 Best Animal Documentaries on Netflix Right Now', 'language': 'en-US'}, page_content='‘The Ivory Game’ is an eye-opening wildlife documentary that exposes the dark underbelly of the illegal ivory trade, threatening the very existence of elephants. Directed by Richard Ladkani and Kief Davidson, the film takes viewers deep into the heart of Africa and China, unraveling a complex web of corruption, crime, and international intrigue. As brave activists and undercover intelligence operatives fight against poachers and trafficking syndicates, the documentary sheds light on the devastating impact of the ivory trade on elephant populations. Through intense investigative storytelling, ‘The Ivory Game’ highlights the urgent need for global awareness and collective action to save these majestic animals from extinction. You can stream it here.\\n4. Virunga (2014)'),\n",
       " Document(metadata={'source': 'https://thecinemaholic.com/best-animal-documentaries-on-netflix/', 'title': '15 Best Animal Documentaries on Netflix Right Now', 'language': 'en-US'}, page_content='‘Virunga,’ directed by Orlando von Einsiedel, stands as a testament to the power of resilience and compassion in the face of adversity. Set against the stunning backdrop of Virunga National Park in the war-torn Democratic Republic of Congo, this documentary unveils the courageous efforts of park rangers risking their lives to protect the last remaining mountain gorillas.\\nThrough its gripping storytelling and breathtaking visuals, the film not only sheds light on the intricate lives of these majestic creatures but also exposes the harsh realities of conservation amid political conflict and corporate greed. ‘Virunga’ is more than a documentary; it’s a heart-wrenching journey that ignites empathy, making it a remarkable animal documentary that transcends the screen, leaving a profound impact on its viewers. You can stream the film here.\\n3. Our Great National Parks (2022)'),\n",
       " Document(metadata={'source': 'https://thecinemaholic.com/best-animal-documentaries-on-netflix/', 'title': '15 Best Animal Documentaries on Netflix Right Now', 'language': 'en-US'}, page_content='‘Our Great National Parks’ is a captivating five-part Netflix documentary series that delves into the world’s renowned national parks and their diverse wildlife. Presented by former U.S. President Barack Obama, the series offers a mesmerizing exploration of these natural wonders. With stunning visuals and insightful narration, the show provides a deep understanding of the beauty, biodiversity, and significance of these parks, making it a must-watch for nature enthusiasts and conservation advocates. Feel free to check out the series here.\\n2. Absurd Planet (2020)'),\n",
       " Document(metadata={'source': 'https://thecinemaholic.com/best-animal-documentaries-on-netflix/', 'title': '15 Best Animal Documentaries on Netflix Right Now', 'language': 'en-US'}, page_content='‘Absurd Planet’ is a whimsical science series created by Paul E. Raff, offering a delightful glimpse into the lives of the world’s most fascinating creatures. Narration is provided by a cast of quirky animal characters, as well as Mother Nature herself. With a humorous twist, the show sheds light on the peculiar behaviors and survival strategies of Earth’s remarkable wildlife. ‘Absurd Planet’ is an entertaining and educational take on the animal kingdom, providing both laughs and insights for viewers of all ages. You may watch the series here.\\n1. Our Planet (2019)'),\n",
       " Document(metadata={'source': 'https://thecinemaholic.com/best-animal-documentaries-on-netflix/', 'title': '15 Best Animal Documentaries on Netflix Right Now', 'language': 'en-US'}, page_content='‘Our Planet,’ an awe-inspiring Netflix documentary series, stands as a testament to nature’s grandeur and fragility. Created by the renowned team behind ‘Planet Earth,’ this visually breathtaking series is narrated by the iconic Sir David Attenborough. It offers a profound exploration of Earth’s diverse habitats, showcasing rare wildlife moments with unparalleled cinematography.\\nWhat sets it apart is its poignant focus on conservation, addressing climate change, and the urgent need to preserve these habitats. This documentary’s brilliance lies in its ability to captivate, educate, and ignite a global call to protect our planet’s invaluable ecosystems. You can watch the series here.\\nRead More: Best Baseball Movies and Shows on Netflix\\n\\n\\n\\n\\nSPONSORED LINKS\\n\\n\\n\\n\\n\\n\\n\\n\\n \\n \\n\\n\\n\\n\\n\\n\\nAbout Us\\nContact Us\\nPrivacy Policy\\nTerms of Use\\nEditorial Policy\\nEthics Policy\\n\\n© 2025 Gomsy Media LLC. All rights reserved. Powered by WordPress.com VIP.\\n\\n\\n\\n\\n\\n\\n\\n\\n\\n\\n\\n\\nMovie News\\nTV News\\nUpcoming\\nWhat to Watch'),\n",
       " Document(metadata={'source': 'https://thecinemaholic.com/best-animal-documentaries-on-netflix/', 'title': '15 Best Animal Documentaries on Netflix Right Now', 'language': 'en-US'}, page_content='© 2025 Gomsy Media LLC. All rights reserved. Powered by WordPress.com VIP.\\n\\n\\n\\n\\n\\n\\n\\n\\n\\n\\n\\n\\nMovie News\\nTV News\\nUpcoming\\nWhat to Watch\\n\\nNetflix\\nHBO Max\\nPrime Video\\nHulu\\nApple TV+\\nDisney+\\nPeacock\\nParamount+\\n\\n\\nMovie Explainers\\nTV Explainers\\nRecaps\\nAbout Us\\n  \\n     \\n\\n     \\n \\n\\n\\n\\n\\n\\n\\n\\n\\n\\n\\n\\n\\n\\n\\n\\n\\xa0\\n\\n\\n\\n\\n\\n\\n\\n\\n\\n\\n\\n\\n\\n\\n\\n\\n\\n\\n\\n\\n\\n\\n\\n\\n\\n\\n\\n\\n\\n\\n\\n\\n\\n\\n\\n\\n\\n\\n\\n\\n\\n\\n\\n\\n\\n\\n\\n\\n\\n\\n\\n\\n\\n\\n\\n\\n\\n\\n\\n\\n\\n\\n\\n\\n\\n\\n\\n\\n\\n\\n\\n\\n\\n\\n\\n\\n\\n\\n\\n\\n\\n\\n\\n\\nLoading Comments...\\n\\n\\n\\n\\xa0\\n\\n\\n\\n\\t\\t\\t\\t\\t\\t\\t\\t\\t\\t\\t\\t\\tYou must be logged in to post a comment.')]"
      ]
     },
     "execution_count": 3,
     "metadata": {},
     "output_type": "execute_result"
    }
   ],
   "source": [
    "from langchain_text_splitters import RecursiveCharacterTextSplitter\n",
    "\n",
    "splitter = RecursiveCharacterTextSplitter(chunk_size = 1000, chunk_overlap = 200)\n",
    "splitted_data = splitter.split_documents(loaded_data)\n",
    "splitted_data"
   ]
  },
  {
   "cell_type": "code",
   "execution_count": 4,
   "id": "c0d79e10",
   "metadata": {},
   "outputs": [],
   "source": [
    "from langchain_openai import OpenAIEmbeddings\n",
    "\n",
    "openai_embedding = OpenAIEmbeddings()\n"
   ]
  },
  {
   "cell_type": "code",
   "execution_count": 5,
   "id": "f3c946b9",
   "metadata": {},
   "outputs": [
    {
     "data": {
      "text/plain": [
       "<langchain_community.vectorstores.faiss.FAISS at 0x2221b4c4940>"
      ]
     },
     "execution_count": 5,
     "metadata": {},
     "output_type": "execute_result"
    }
   ],
   "source": [
    "from langchain_community.vectorstores import FAISS\n",
    "\n",
    "FAISS_data = FAISS.from_documents(splitted_data, openai_embedding)\n",
    "FAISS_data"
   ]
  },
  {
   "cell_type": "code",
   "execution_count": 6,
   "id": "8ef644f2",
   "metadata": {},
   "outputs": [
    {
     "data": {
      "text/plain": [
       "'This cuddly docuseries features baby animals from across the world born in different environments and have to learn their respective ways of life. Narrated by Academy Award nominee Helena Bonham Carter, ‘Wild Babies’ has eight episodes, each of around 30 minutes, and features a baby fur seal named Tabo, who hails from Namibia, a female lion cub named Kaya, who hails from South Africa; we have Mina, a baby Orangutan from Indonesia, Quito, a baby mongoose and Silver, an Arctic fox, among others. You can stream ‘Wild Babies’ here.\\n12. Life in Colour (2021)'"
      ]
     },
     "execution_count": 6,
     "metadata": {},
     "output_type": "execute_result"
    }
   ],
   "source": [
    "## Query From a vector db\n",
    "query=\"wild babies\"\n",
    "result = FAISS_data.similarity_search(query)\n",
    "result[0].page_content"
   ]
  },
  {
   "cell_type": "code",
   "execution_count": 7,
   "id": "84286240",
   "metadata": {},
   "outputs": [],
   "source": [
    "# So now lets use retriever chain and document chain.\n",
    "\n",
    "# Create llm\n",
    "\n",
    "from langchain_openai import ChatOpenAI\n",
    "\n",
    "llm = ChatOpenAI(model='gpt-4o')"
   ]
  },
  {
   "cell_type": "code",
   "execution_count": null,
   "id": "bde90952",
   "metadata": {},
   "outputs": [
    {
     "data": {
      "text/plain": [
       "RunnableBinding(bound=RunnableBinding(bound=RunnableAssign(mapper={\n",
       "  context: RunnableLambda(format_docs)\n",
       "}), kwargs={}, config={'run_name': 'format_inputs'}, config_factories=[])\n",
       "| ChatPromptTemplate(input_variables=['context', 'input'], input_types={}, partial_variables={}, messages=[HumanMessagePromptTemplate(prompt=PromptTemplate(input_variables=['context', 'input'], input_types={}, partial_variables={}, template='Answer the following question, based only on the context guven below:\\n    <context>\\n    {context}\\n    </context>\\n    \\n    question: {input}\\n    '), additional_kwargs={})])\n",
       "| ChatOpenAI(client=<openai.resources.chat.completions.completions.Completions object at 0x000002221B4C5A20>, async_client=<openai.resources.chat.completions.completions.AsyncCompletions object at 0x000002221B4C6A40>, root_client=<openai.OpenAI object at 0x000002221B4C4D90>, root_async_client=<openai.AsyncOpenAI object at 0x000002221B4C4BB0>, model_name='gpt-4o', model_kwargs={}, openai_api_key=SecretStr('**********'))\n",
       "| StrOutputParser(), kwargs={}, config={'run_name': 'stuff_documents_chain'}, config_factories=[])"
      ]
     },
     "execution_count": 8,
     "metadata": {},
     "output_type": "execute_result"
    }
   ],
   "source": [
    "# create document chain\n",
    "\n",
    "from langchain.chains.combine_documents import create_stuff_documents_chain\n",
    "from langchain_core.prompts import ChatPromptTemplate\n",
    "\n",
    "prompt = ChatPromptTemplate.from_template(\n",
    "    \"\"\"Answer the following question, based only on the context given below:\n",
    "    <context>\n",
    "    {context}\n",
    "    </context>\n",
    "    \n",
    "    question: {input}\n",
    "    \"\"\"\n",
    ")\n",
    "\n",
    "document_chain = create_stuff_documents_chain(llm, prompt)\n",
    "document_chain"
   ]
  },
  {
   "cell_type": "code",
   "execution_count": 9,
   "id": "c65cd606",
   "metadata": {},
   "outputs": [
    {
     "data": {
      "text/plain": [
       "RunnableBinding(bound=RunnableAssign(mapper={\n",
       "  context: RunnableBinding(bound=RunnableLambda(lambda x: x['input'])\n",
       "           | VectorStoreRetriever(tags=['FAISS', 'OpenAIEmbeddings'], vectorstore=<langchain_community.vectorstores.faiss.FAISS object at 0x000002221B4C4940>, search_kwargs={}), kwargs={}, config={'run_name': 'retrieve_documents'}, config_factories=[])\n",
       "})\n",
       "| RunnableAssign(mapper={\n",
       "    answer: RunnableBinding(bound=RunnableBinding(bound=RunnableAssign(mapper={\n",
       "              context: RunnableLambda(format_docs)\n",
       "            }), kwargs={}, config={'run_name': 'format_inputs'}, config_factories=[])\n",
       "            | ChatPromptTemplate(input_variables=['context', 'input'], input_types={}, partial_variables={}, messages=[HumanMessagePromptTemplate(prompt=PromptTemplate(input_variables=['context', 'input'], input_types={}, partial_variables={}, template='Answer the following question, based only on the context guven below:\\n    <context>\\n    {context}\\n    </context>\\n    \\n    question: {input}\\n    '), additional_kwargs={})])\n",
       "            | ChatOpenAI(client=<openai.resources.chat.completions.completions.Completions object at 0x000002221B4C5A20>, async_client=<openai.resources.chat.completions.completions.AsyncCompletions object at 0x000002221B4C6A40>, root_client=<openai.OpenAI object at 0x000002221B4C4D90>, root_async_client=<openai.AsyncOpenAI object at 0x000002221B4C4BB0>, model_name='gpt-4o', model_kwargs={}, openai_api_key=SecretStr('**********'))\n",
       "            | StrOutputParser(), kwargs={}, config={'run_name': 'stuff_documents_chain'}, config_factories=[])\n",
       "  }), kwargs={}, config={'run_name': 'retrieval_chain'}, config_factories=[])"
      ]
     },
     "execution_count": 9,
     "metadata": {},
     "output_type": "execute_result"
    }
   ],
   "source": [
    "# create retrieval chain\n",
    "from langchain.chains import create_retrieval_chain\n",
    "\n",
    "FAISS_retriever = FAISS_data.as_retriever()\n",
    "\n",
    "retrieval_chain = create_retrieval_chain(FAISS_retriever, document_chain)\n",
    "retrieval_chain"
   ]
  },
  {
   "cell_type": "code",
   "execution_count": 10,
   "id": "b220ce1e",
   "metadata": {},
   "outputs": [
    {
     "data": {
      "text/plain": [
       "'\"Wild Babies\" is a docuseries featuring baby animals from different parts of the world as they learn to adapt to their environments. The show is narrated by Helena Bonham Carter and includes eight episodes, each about 30 minutes long, showcasing animals such as Tabo, a baby fur seal from Namibia, Kaya, a female lion cub from South Africa, Mina, a baby orangutan from Indonesia, Quito, a baby mongoose, and Silver, an Arctic fox.'"
      ]
     },
     "execution_count": 10,
     "metadata": {},
     "output_type": "execute_result"
    }
   ],
   "source": [
    "response = retrieval_chain.invoke({\"input\":\"wild babies\"})\n",
    "response['answer']"
   ]
  },
  {
   "cell_type": "code",
   "execution_count": 11,
   "id": "08e84ce3",
   "metadata": {},
   "outputs": [
    {
     "data": {
      "text/plain": [
       "{'input': 'wild babies',\n",
       " 'context': [Document(id='23ca45bb-f45a-4347-9c3d-a3dd26ff33c6', metadata={'source': 'https://thecinemaholic.com/best-animal-documentaries-on-netflix/', 'title': '15 Best Animal Documentaries on Netflix Right Now', 'language': 'en-US'}, page_content='This cuddly docuseries features baby animals from across the world born in different environments and have to learn their respective ways of life. Narrated by Academy Award nominee Helena Bonham Carter, ‘Wild Babies’ has eight episodes, each of around 30 minutes, and features a baby fur seal named Tabo, who hails from Namibia, a female lion cub named Kaya, who hails from South Africa; we have Mina, a baby Orangutan from Indonesia, Quito, a baby mongoose and Silver, an Arctic fox, among others. You can stream ‘Wild Babies’ here.\\n12. Life in Colour (2021)'),\n",
       "  Document(id='4d0a2fe2-19ce-496e-9841-a2cb2a9a9a41', metadata={'source': 'https://thecinemaholic.com/best-animal-documentaries-on-netflix/', 'title': '15 Best Animal Documentaries on Netflix Right Now', 'language': 'en-US'}, page_content='This 6-part limited nature documentary explores nature at night. Using cutting-edge low-light camera technology, the makers take us on a visually stunning exploration of the different forms of life against the starry skies. As we travel among forests, deserts, and seas, we see how animals, fish, insects, and other organisms reveal a different side of them as the sun sets. We join them on their respective expeditions. Narrated by Samira Wiley (English), ‘Night on Earth’ can be streamed here.\\n13. Wild Babies (2022)'),\n",
       "  Document(id='ec526a3e-dba0-46d0-b261-64ffa55863ff', metadata={'source': 'https://thecinemaholic.com/best-animal-documentaries-on-netflix/', 'title': '15 Best Animal Documentaries on Netflix Right Now', 'language': 'en-US'}, page_content='’72 Dangerous Animals: Latin America’ is a thrilling wildlife documentary series that plunges into the perilous creatures inhabiting the diverse landscapes of Latin America. Narrated by dynamic wildlife enthusiast Bob Brisbane, the show takes viewers on an exhilarating journey through this vibrant region. Each episode is an adrenaline-pumping exploration of the continent’s most venomous, cunning, and formidable animals.\\nFrom the Amazon rainforest to the Andes Mountains, the series uncovers the dangerous predators and survival strategies that make Latin America’s wildlife so captivating and, at times, deadly. With stunning cinematography and expert insights, it’s a riveting look at the untamed creatures of this fascinating continent. You can stream the series here.\\n7. Chimp Empire (2023)'),\n",
       "  Document(id='d1c70c86-1ee0-4708-8e0a-b9204e9451c6', metadata={'source': 'https://thecinemaholic.com/best-animal-documentaries-on-netflix/', 'title': '15 Best Animal Documentaries on Netflix Right Now', 'language': 'en-US'}, page_content='15 Best Animal Documentaries on Netflix (August 2025) \\n Harsh Vardhan\\nUpdated August 29, 2025\\n\\n\\n\\n\\nFacebookTwitterPinterestRedditEmail \\n\\n\\n\\n\\n\\n\\n\\n\\n\\n\\n\\n\\n \\n\\n\\n\\n\\n\\n\\n\\n\\n\\nExploring the natural world through captivating storytelling and breathtaking cinematography, Netflix offers a treasure trove of animal documentaries that both educate and inspire. From the depths of the ocean to the heart of the savannah, these documentaries provide an intimate glimpse into the lives of Earth’s most fascinating creatures. Whether you’re a wildlife enthusiast, a nature lover, or simply seeking a mesmerizing escape into the wild, this curated selection of the best animal documentaries on Netflix is your passport to a world of untamed beauty and awe-inspiring wildlife encounters. Join us on this virtual safari as we embark on a journey of discovery and appreciation for our planet’s incredible biodiversity.\\n\\n\\n\\n\\n\\n15. Tiny Creatures (2020)')],\n",
       " 'answer': '\"Wild Babies\" is a docuseries featuring baby animals from different parts of the world as they learn to adapt to their environments. The show is narrated by Helena Bonham Carter and includes eight episodes, each about 30 minutes long, showcasing animals such as Tabo, a baby fur seal from Namibia, Kaya, a female lion cub from South Africa, Mina, a baby orangutan from Indonesia, Quito, a baby mongoose, and Silver, an Arctic fox.'}"
      ]
     },
     "execution_count": 11,
     "metadata": {},
     "output_type": "execute_result"
    }
   ],
   "source": [
    "response"
   ]
  },
  {
   "cell_type": "code",
   "execution_count": 12,
   "id": "1053144a",
   "metadata": {},
   "outputs": [
    {
     "data": {
      "text/plain": [
       "[Document(id='23ca45bb-f45a-4347-9c3d-a3dd26ff33c6', metadata={'source': 'https://thecinemaholic.com/best-animal-documentaries-on-netflix/', 'title': '15 Best Animal Documentaries on Netflix Right Now', 'language': 'en-US'}, page_content='This cuddly docuseries features baby animals from across the world born in different environments and have to learn their respective ways of life. Narrated by Academy Award nominee Helena Bonham Carter, ‘Wild Babies’ has eight episodes, each of around 30 minutes, and features a baby fur seal named Tabo, who hails from Namibia, a female lion cub named Kaya, who hails from South Africa; we have Mina, a baby Orangutan from Indonesia, Quito, a baby mongoose and Silver, an Arctic fox, among others. You can stream ‘Wild Babies’ here.\\n12. Life in Colour (2021)'),\n",
       " Document(id='4d0a2fe2-19ce-496e-9841-a2cb2a9a9a41', metadata={'source': 'https://thecinemaholic.com/best-animal-documentaries-on-netflix/', 'title': '15 Best Animal Documentaries on Netflix Right Now', 'language': 'en-US'}, page_content='This 6-part limited nature documentary explores nature at night. Using cutting-edge low-light camera technology, the makers take us on a visually stunning exploration of the different forms of life against the starry skies. As we travel among forests, deserts, and seas, we see how animals, fish, insects, and other organisms reveal a different side of them as the sun sets. We join them on their respective expeditions. Narrated by Samira Wiley (English), ‘Night on Earth’ can be streamed here.\\n13. Wild Babies (2022)'),\n",
       " Document(id='ec526a3e-dba0-46d0-b261-64ffa55863ff', metadata={'source': 'https://thecinemaholic.com/best-animal-documentaries-on-netflix/', 'title': '15 Best Animal Documentaries on Netflix Right Now', 'language': 'en-US'}, page_content='’72 Dangerous Animals: Latin America’ is a thrilling wildlife documentary series that plunges into the perilous creatures inhabiting the diverse landscapes of Latin America. Narrated by dynamic wildlife enthusiast Bob Brisbane, the show takes viewers on an exhilarating journey through this vibrant region. Each episode is an adrenaline-pumping exploration of the continent’s most venomous, cunning, and formidable animals.\\nFrom the Amazon rainforest to the Andes Mountains, the series uncovers the dangerous predators and survival strategies that make Latin America’s wildlife so captivating and, at times, deadly. With stunning cinematography and expert insights, it’s a riveting look at the untamed creatures of this fascinating continent. You can stream the series here.\\n7. Chimp Empire (2023)'),\n",
       " Document(id='d1c70c86-1ee0-4708-8e0a-b9204e9451c6', metadata={'source': 'https://thecinemaholic.com/best-animal-documentaries-on-netflix/', 'title': '15 Best Animal Documentaries on Netflix Right Now', 'language': 'en-US'}, page_content='15 Best Animal Documentaries on Netflix (August 2025) \\n Harsh Vardhan\\nUpdated August 29, 2025\\n\\n\\n\\n\\nFacebookTwitterPinterestRedditEmail \\n\\n\\n\\n\\n\\n\\n\\n\\n\\n\\n\\n\\n \\n\\n\\n\\n\\n\\n\\n\\n\\n\\nExploring the natural world through captivating storytelling and breathtaking cinematography, Netflix offers a treasure trove of animal documentaries that both educate and inspire. From the depths of the ocean to the heart of the savannah, these documentaries provide an intimate glimpse into the lives of Earth’s most fascinating creatures. Whether you’re a wildlife enthusiast, a nature lover, or simply seeking a mesmerizing escape into the wild, this curated selection of the best animal documentaries on Netflix is your passport to a world of untamed beauty and awe-inspiring wildlife encounters. Join us on this virtual safari as we embark on a journey of discovery and appreciation for our planet’s incredible biodiversity.\\n\\n\\n\\n\\n\\n15. Tiny Creatures (2020)')]"
      ]
     },
     "execution_count": 12,
     "metadata": {},
     "output_type": "execute_result"
    }
   ],
   "source": [
    "response['context']"
   ]
  },
  {
   "cell_type": "code",
   "execution_count": null,
   "id": "c52b3bd1",
   "metadata": {},
   "outputs": [],
   "source": []
  }
 ],
 "metadata": {
  "kernelspec": {
   "display_name": "myenv",
   "language": "python",
   "name": "python3"
  },
  "language_info": {
   "codemirror_mode": {
    "name": "ipython",
    "version": 3
   },
   "file_extension": ".py",
   "mimetype": "text/x-python",
   "name": "python",
   "nbconvert_exporter": "python",
   "pygments_lexer": "ipython3",
   "version": "3.10.18"
  }
 },
 "nbformat": 4,
 "nbformat_minor": 5
}
