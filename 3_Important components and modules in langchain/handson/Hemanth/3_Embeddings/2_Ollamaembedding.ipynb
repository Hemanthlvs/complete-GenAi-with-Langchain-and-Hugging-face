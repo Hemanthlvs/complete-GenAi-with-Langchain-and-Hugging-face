{
 "cells": [
  {
   "cell_type": "markdown",
   "id": "71802353",
   "metadata": {},
   "source": [
    "#### Ollama\n",
    "Ollama supports embedding models, making it possible to build retrieval augmented generation (RAG) applications that combine text prompts with existing documents or other data."
   ]
  },
  {
   "cell_type": "code",
   "execution_count": 1,
   "id": "bdba201a",
   "metadata": {},
   "outputs": [],
   "source": [
    "from langchain_community.embeddings import OllamaEmbeddings\n",
    "from langchain_community.document_loaders import TextLoader\n",
    "from langchain.text_splitter import RecursiveCharacterTextSplitter"
   ]
  },
  {
   "cell_type": "code",
   "execution_count": 2,
   "id": "47d68d5f",
   "metadata": {},
   "outputs": [
    {
     "data": {
      "text/plain": [
       "[Document(metadata={'source': 'greek_letters.txt'}, page_content='Alpha is the first letter of Greek alphabet.\\nBeta is the second letter of Greek alphabet.')]"
      ]
     },
     "execution_count": 2,
     "metadata": {},
     "output_type": "execute_result"
    }
   ],
   "source": [
    "text_loaded = TextLoader('greek_letters.txt').load()\n",
    "text_loaded"
   ]
  },
  {
   "cell_type": "code",
   "execution_count": 3,
   "id": "c7794753",
   "metadata": {},
   "outputs": [
    {
     "data": {
      "text/plain": [
       "[Document(metadata={'source': 'greek_letters.txt'}, page_content='Alpha is the first letter of Greek alphabet.'),\n",
       " Document(metadata={'source': 'greek_letters.txt'}, page_content='Beta is the second letter of Greek alphabet.')]"
      ]
     },
     "execution_count": 3,
     "metadata": {},
     "output_type": "execute_result"
    }
   ],
   "source": [
    "splitter = RecursiveCharacterTextSplitter(chunk_size=60, chunk_overlap = 0)\n",
    "splitted_document = splitter.split_documents(text_loaded)\n",
    "splitted_document"
   ]
  },
  {
   "cell_type": "code",
   "execution_count": 4,
   "id": "c1821a67",
   "metadata": {},
   "outputs": [
    {
     "name": "stderr",
     "output_type": "stream",
     "text": [
      "C:\\Users\\91949\\AppData\\Local\\Temp\\ipykernel_8268\\1699957294.py:1: LangChainDeprecationWarning: The class `OllamaEmbeddings` was deprecated in LangChain 0.3.1 and will be removed in 1.0.0. An updated version of the class exists in the :class:`~langchain-ollama package and should be used instead. To use it run `pip install -U :class:`~langchain-ollama` and import as `from :class:`~langchain_ollama import OllamaEmbeddings``.\n",
      "  ollama_embedding = OllamaEmbeddings(model=\"gemma:2b\") #by default it is llama3\n"
     ]
    },
    {
     "data": {
      "text/plain": [
       "OllamaEmbeddings(base_url='http://localhost:11434', model='gemma:2b', embed_instruction='passage: ', query_instruction='query: ', mirostat=None, mirostat_eta=None, mirostat_tau=None, num_ctx=None, num_gpu=None, num_thread=None, repeat_last_n=None, repeat_penalty=None, temperature=None, stop=None, tfs_z=None, top_k=None, top_p=None, show_progress=False, headers=None, model_kwargs=None)"
      ]
     },
     "execution_count": 4,
     "metadata": {},
     "output_type": "execute_result"
    }
   ],
   "source": [
    "ollama_embedding = OllamaEmbeddings(model=\"gemma:2b\") #by default it is llama3\n",
    "ollama_embedding"
   ]
  },
  {
   "cell_type": "code",
   "execution_count": 5,
   "id": "c0028a45",
   "metadata": {},
   "outputs": [
    {
     "name": "stdout",
     "output_type": "stream",
     "text": [
      "'Alpha is the first letter of Greek alphabet.'\n",
      "'Beta is the second letter of Greek alphabet.'\n"
     ]
    },
    {
     "data": {
      "text/plain": [
       "<langchain_community.vectorstores.chroma.Chroma at 0x1f80cd8a2c0>"
      ]
     },
     "execution_count": 5,
     "metadata": {},
     "output_type": "execute_result"
    }
   ],
   "source": [
    "import shutil\n",
    "\n",
    "# Deleting old chroma DB directory\n",
    "shutil.rmtree(\"chroma_db\", ignore_errors=True)\n",
    "\n",
    "for doc in splitted_document:\n",
    "    print(repr(doc.page_content))\n",
    "\n",
    "from langchain_community.vectorstores import Chroma\n",
    "chroma_db = Chroma.from_documents(splitted_document, ollama_embedding, persist_directory=\"chroma_db\")\n",
    "chroma_db"
   ]
  },
  {
   "cell_type": "code",
   "execution_count": 6,
   "id": "7783ae1e",
   "metadata": {},
   "outputs": [
    {
     "data": {
      "text/plain": [
       "[Document(metadata={'source': 'greek_letters.txt'}, page_content='Alpha is the first letter of Greek alphabet.')]"
      ]
     },
     "execution_count": 6,
     "metadata": {},
     "output_type": "execute_result"
    }
   ],
   "source": [
    "query = \"what is second greek alphabet?\"\n",
    "result = chroma_db.similarity_search(query, k=1)\n",
    "result"
   ]
  }
 ],
 "metadata": {
  "kernelspec": {
   "display_name": "myenv",
   "language": "python",
   "name": "python3"
  },
  "language_info": {
   "codemirror_mode": {
    "name": "ipython",
    "version": 3
   },
   "file_extension": ".py",
   "mimetype": "text/x-python",
   "name": "python",
   "nbconvert_exporter": "python",
   "pygments_lexer": "ipython3",
   "version": "3.10.18"
  }
 },
 "nbformat": 4,
 "nbformat_minor": 5
}
