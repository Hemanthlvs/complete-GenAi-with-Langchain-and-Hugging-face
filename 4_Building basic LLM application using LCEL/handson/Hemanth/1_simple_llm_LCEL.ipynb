{
 "cells": [
  {
   "cell_type": "markdown",
   "id": "32acbfc8",
   "metadata": {},
   "source": [
    "### Build a Simple LLM Application with LCEL\n",
    "In this quickstart we'll show you how to build a simple LLM application with LangChain. This application will translate text from English into another language. This is a relatively simple LLM application - it's just a single LLM call plus some prompting. Still, this is a great way to get started with LangChain - a lot of features can be built with just some prompting and an LLM call!\n",
    "\n",
    "After seeing this video, you'll have a high level overview of:\n",
    "\n",
    "- Using language models\n",
    "\n",
    "- Using PromptTemplates and OutputParsers\n",
    "\n",
    "- Using LangChain Expression Language (LCEL) to chain components together\n",
    "\n",
    "- Debugging and tracing your application using LangSmith\n",
    "\n",
    "- Deploying your application with LangServe"
   ]
  },
  {
   "cell_type": "code",
   "execution_count": 10,
   "id": "af63d14b",
   "metadata": {},
   "outputs": [],
   "source": [
    "import os\n",
    "from dotenv import load_dotenv\n",
    "load_dotenv()\n",
    "\n",
    "GROQ_API_KEY = os.getenv(\"GROQ_API_KEY\")"
   ]
  },
  {
   "cell_type": "code",
   "execution_count": 11,
   "id": "f114d805",
   "metadata": {},
   "outputs": [
    {
     "data": {
      "text/plain": [
       "ChatGroq(client=<groq.resources.chat.completions.Completions object at 0x000001F751E27250>, async_client=<groq.resources.chat.completions.AsyncCompletions object at 0x000001F751E275B0>, model_name='Gemma2-9b-It')"
      ]
     },
     "execution_count": 11,
     "metadata": {},
     "output_type": "execute_result"
    }
   ],
   "source": [
    "from langchain_groq import ChatGroq\n",
    "\n",
    "model = ChatGroq(model=\"Gemma2-9b-It\", groq_api_key=GROQ_API_KEY)\n",
    "model"
   ]
  },
  {
   "cell_type": "code",
   "execution_count": 12,
   "id": "53566ba4",
   "metadata": {},
   "outputs": [],
   "source": [
    "from langchain_core.messages import HumanMessage, SystemMessage\n",
    "\n",
    "message = [\n",
    "    SystemMessage(content=\"Translate the sentence, from English to Telugu\"),\n",
    "    HumanMessage(content=\"My hometown is Kakinada. I am a Software engineer and work in Hyderabad\")\n",
    "]"
   ]
  },
  {
   "cell_type": "code",
   "execution_count": 13,
   "id": "6c6a8bfa",
   "metadata": {},
   "outputs": [
    {
     "data": {
      "text/plain": [
       "AIMessage(content='Here\\'s the translation of the sentence, along with some notes on Telugu grammar:\\n\\n**Telugu:**\\n\\nనా పుట్టిన పట్టణం క\\u200c akinada. నేను సాఫ్ట్ వేర్ ఇంజినీర్ గా పని చేస్తున్నాను హైదరాబాద్ లో. \\n\\n**Pronunciation:**\\n\\n* nā puṭṭina paṭṭaṇaṁ Kakinada. \\n* nēnu sāfṭa wēra injinēra gā paṇi cēṣṭunnaanu haiḍarābāḍ lo.\\n\\n**Explanation:**\\n\\n* **నా (nā):**  \"My\"\\n* **పుట్టిన పట్టణం (puṭṭina paṭṭaṇaṁ):** \"Hometown\" \\n* **క\\u200c akinada (Kakinada):** Your hometown name \\n* **నేను (nēnu):** \"I\"\\n* **సాఫ్ట్ వేర్ ఇంజినీర్ (sāfṭa wēra injinēra):** \"Software Engineer\"\\n* **గా (gā):** \"As a\"\\n* **పని చేస్తున్నాను (paṇi cēṣṭunnaanu):** \"am working\"\\n* **హైదరాబాద్ (haiḍarābāḍ):** \"Hyderabad\"\\n* **లో (lo):** \"In\"\\n\\n\\nLet me know if you have any other sentences you\\'d like translated!\\n', response_metadata={'token_usage': {'completion_tokens': 336, 'prompt_tokens': 32, 'total_tokens': 368, 'completion_time': 0.610909091, 'prompt_time': 0.001486368, 'queue_time': 0.250542182, 'total_time': 0.612395459}, 'model_name': 'Gemma2-9b-It', 'system_fingerprint': 'fp_10c08bf97d', 'finish_reason': 'stop', 'logprobs': None}, id='run-c11ef8d8-1216-4419-b4d5-b5d6e67e3f42-0', usage_metadata={'input_tokens': 32, 'output_tokens': 336, 'total_tokens': 368})"
      ]
     },
     "execution_count": 13,
     "metadata": {},
     "output_type": "execute_result"
    }
   ],
   "source": [
    "model.invoke(message)"
   ]
  },
  {
   "cell_type": "code",
   "execution_count": 14,
   "id": "346bfa43",
   "metadata": {},
   "outputs": [
    {
     "data": {
      "text/plain": [
       "\"Here's the translation, broken down for clarity:\\n\\n* **My hometown is Kakinada.**  \\n    * నా స్వగ్రామం కాకినాడ. (Naa swagramem Kakinada.)\\n\\n* **I am a Software engineer and work in Hyderabad.**\\n    * నేను సాఫ్ట్\\u200cవేర్ ఇంజనీర్ గా పనిచేస్తున్నాను హైదరాబాద్ లో. (Neenu saaftswaer engineer ga panichestuunanu Hyderabad lo.)\\n\\n**Combined:**\\nనా స్వగ్రామం కాకినాడ. నేను సాఫ్ట్\\u200cవేర్ ఇంజనీర్ గా పనిచేస్తున్నాను హైదరాబాద్ లో. \\n\\n\\n\\nLet me know if you have any other sentences you'd like translated! \\n\""
      ]
     },
     "execution_count": 14,
     "metadata": {},
     "output_type": "execute_result"
    }
   ],
   "source": [
    "result = model.invoke(message)\n",
    "result.content"
   ]
  },
  {
   "cell_type": "code",
   "execution_count": 15,
   "id": "90057b20",
   "metadata": {},
   "outputs": [
    {
     "data": {
      "text/plain": [
       "\"Here's the translation, broken down for clarity:\\n\\n* **My hometown is Kakinada.**  \\n    * నా స్వగ్రామం కాకినాడ. (Naa swagramem Kakinada.)\\n\\n* **I am a Software engineer and work in Hyderabad.**\\n    * నేను సాఫ్ట్\\u200cవేర్ ఇంజనీర్ గా పనిచేస్తున్నాను హైదరాబాద్ లో. (Neenu saaftswaer engineer ga panichestuunanu Hyderabad lo.)\\n\\n**Combined:**\\nనా స్వగ్రామం కాకినాడ. నేను సాఫ్ట్\\u200cవేర్ ఇంజనీర్ గా పనిచేస్తున్నాను హైదరాబాద్ లో. \\n\\n\\n\\nLet me know if you have any other sentences you'd like translated! \\n\""
      ]
     },
     "execution_count": 15,
     "metadata": {},
     "output_type": "execute_result"
    }
   ],
   "source": [
    "from langchain_core.output_parsers import StrOutputParser\n",
    "\n",
    "parser = StrOutputParser()\n",
    "parser.invoke(result)"
   ]
  },
  {
   "cell_type": "code",
   "execution_count": 16,
   "id": "ac7b8b34",
   "metadata": {},
   "outputs": [
    {
     "data": {
      "text/plain": [
       "'Here\\'s the translation, along with some notes on natural phrasing:\\n\\n**Telugu:**\\n\\n* నా స్వగత ప్రాంతం క\\u200c akkinada. నేను సాఫ్ట్\\u200cవేర్ ఇంజనీర్ గా ప\\u200cని చేస్తున్నాను, హైదరాబాద్ లో.\\n\\n**Pronunciation:**\\n\\n*  naa swagat praantham kakinada. neenu saafwaree ingeener ga pani chesthunnaanu, haiderabad lo.\\n\\n**Explanation:**\\n\\n* **నా స్వగత ప్రాంతం (naa swagat praantham):** My hometown\\n* **క\\u200c akkinada (kakinada):** Kakinada\\n* **నేను (neenu):** I \\n* **సాఫ్ట్\\u200cవేర్ ఇంజనీర్ (saafwaree ingeener):** Software engineer\\n* **గా (ga):** as\\n* **ప\\u200cని చేస్తున్నాను (pani chesthunnaanu):** I am working\\n* **హైదరాబాద్ (haiderabad):** Hyderabad\\n* **లో (lo):** in\\n\\n**Notes:**\\n\\n* The word order in Telugu can be slightly different from English. \\n*  \"Swagat praantham\" is a common way to say \"hometown\" in Telugu. \\n\\n\\n\\n\\nLet me know if you have any other sentences you\\'d like translated!\\n'"
      ]
     },
     "execution_count": 16,
     "metadata": {},
     "output_type": "execute_result"
    }
   ],
   "source": [
    "### Using LCEL- chain the components\n",
    "\n",
    "chain = model | parser\n",
    "chain.invoke(message)"
   ]
  },
  {
   "cell_type": "code",
   "execution_count": 17,
   "id": "b6c9f6f4",
   "metadata": {},
   "outputs": [
    {
     "data": {
      "text/plain": [
       "[SystemMessage(content='You are now a translator. So please translate the below text to Telugu'),\n",
       " HumanMessage(content='Hey Hi! How are you?')]"
      ]
     },
     "execution_count": 17,
     "metadata": {},
     "output_type": "execute_result"
    }
   ],
   "source": [
    "### Prompt Templates\n",
    "from langchain_core.prompts import ChatPromptTemplate\n",
    "\n",
    "generic_template = \"You are now a translator. So please translate the below text to {language}\"\n",
    "\n",
    "prompt = ChatPromptTemplate.from_messages(\n",
    "    [\n",
    "        (\"system\",generic_template),\n",
    "        (\"user\",\"{input_text}\")\n",
    "    ]\n",
    ")\n",
    "\n",
    "input = \"Hey Hi! How are you?\"\n",
    "result_1 = prompt.invoke({\"language\":\"Telugu\",\"input_text\":input})\n",
    "result_1.to_messages()"
   ]
  },
  {
   "cell_type": "code",
   "execution_count": 18,
   "id": "df15220a",
   "metadata": {},
   "outputs": [
    {
     "data": {
      "text/plain": [
       "\"హే! హలో! మీరు ఎలా ఉన్నారు?  (Hey! Hello! How are you?) \\n\\n\\nLet me know if you have any other text you'd like me to translate! \\n\""
      ]
     },
     "execution_count": 18,
     "metadata": {},
     "output_type": "execute_result"
    }
   ],
   "source": [
    "chain_2 = prompt | model | parser\n",
    "\n",
    "chain_2.invoke({\"language\":\"Telugu\",\"input_text\":input})"
   ]
  },
  {
   "cell_type": "code",
   "execution_count": null,
   "id": "1185e014",
   "metadata": {},
   "outputs": [],
   "source": []
  }
 ],
 "metadata": {
  "kernelspec": {
   "display_name": "myenv",
   "language": "python",
   "name": "python3"
  },
  "language_info": {
   "codemirror_mode": {
    "name": "ipython",
    "version": 3
   },
   "file_extension": ".py",
   "mimetype": "text/x-python",
   "name": "python",
   "nbconvert_exporter": "python",
   "pygments_lexer": "ipython3",
   "version": "3.10.18"
  }
 },
 "nbformat": 4,
 "nbformat_minor": 5
}
