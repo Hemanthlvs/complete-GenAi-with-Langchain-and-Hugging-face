{
 "cells": [
  {
   "cell_type": "markdown",
   "id": "a27e8449",
   "metadata": {},
   "source": [
    "## Building A Chatbot\n",
    "In this notebook, We'll go over an example of how to design and implement an LLM-powered chatbot. This chatbot will be able to have a conversation and remember previous interactions.\n",
    "\n",
    "Note that this chatbot that we build will only use the language model to have a conversation. There are several other related concepts that you may be looking for:\n",
    "\n",
    "- Conversational RAG: Enable a chatbot experience over an external source of data\n",
    "- Agents: Build a chatbot that can take actions\n",
    "\n",
    "This video tutorial will cover the basics which will be helpful for those two more advanced topics."
   ]
  },
  {
   "cell_type": "code",
   "execution_count": 4,
   "id": "04fed8d5",
   "metadata": {},
   "outputs": [
    {
     "data": {
      "text/plain": [
       "'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'"
      ]
     },
     "execution_count": 4,
     "metadata": {},
     "output_type": "execute_result"
    }
   ],
   "source": [
    "import os\n",
    "from dotenv import load_dotenv\n",
    "load_dotenv()\n",
    "\n",
    "groq_api_key = os.getenv(\"GROQ_API_KEY\")\n",
    "groq_api_key"
   ]
  },
  {
   "cell_type": "code",
   "execution_count": 7,
   "id": "7d49513d",
   "metadata": {},
   "outputs": [
    {
     "data": {
      "text/plain": [
       "ChatGroq(client=<groq.resources.chat.completions.Completions object at 0x00000210CDAD4DF0>, async_client=<groq.resources.chat.completions.AsyncCompletions object at 0x00000210CDB03520>, model_name='Gemma2-9b-It')"
      ]
     },
     "execution_count": 7,
     "metadata": {},
     "output_type": "execute_result"
    }
   ],
   "source": [
    "from langchain_groq import ChatGroq\n",
    "\n",
    "model = ChatGroq(model='Gemma2-9b-It', groq_api_key=groq_api_key)\n",
    "model"
   ]
  },
  {
   "cell_type": "code",
   "execution_count": 8,
   "id": "1421dd01",
   "metadata": {},
   "outputs": [
    {
     "data": {
      "text/plain": [
       "AIMessage(content=\"You are Hemanth LVS and you are a Senior Data Engineer.  \\n\\nIs there anything else you'd like me to remember about you? 😊  \\n\\n\", response_metadata={'token_usage': {'completion_tokens': 37, 'prompt_tokens': 106, 'total_tokens': 143, 'completion_time': 0.067272727, 'prompt_time': 0.002767847, 'queue_time': 0.253506013, 'total_time': 0.070040574}, 'model_name': 'Gemma2-9b-It', 'system_fingerprint': 'fp_10c08bf97d', 'finish_reason': 'stop', 'logprobs': None}, id='run-a0846240-f3e0-493e-a78e-3749abb9bd41-0', usage_metadata={'input_tokens': 106, 'output_tokens': 37, 'total_tokens': 143})"
      ]
     },
     "execution_count": 8,
     "metadata": {},
     "output_type": "execute_result"
    }
   ],
   "source": [
    "from langchain_core.messages import HumanMessage, AIMessage\n",
    "\n",
    "model.invoke(\n",
    "    [\n",
    "        HumanMessage(content=\"Hi ! My name is Hemanth LVS. I am a Senior Data Engineer.\"),\n",
    "        AIMessage(content=\"Hello Hemanth LVS! It's nice to meet you. \\n\\nAs a Senior Data Engineer, what kind of projects are you working on these days? \\n\\nI'm always eager to learn more about the exciting work being done in the field of DE.\\n\"),\n",
    "        HumanMessage(content=\"Hey what's my name and what do I do?\")\n",
    "    ]\n",
    ")"
   ]
  }
 ],
 "metadata": {
  "kernelspec": {
   "display_name": "myenv",
   "language": "python",
   "name": "python3"
  },
  "language_info": {
   "codemirror_mode": {
    "name": "ipython",
    "version": 3
   },
   "file_extension": ".py",
   "mimetype": "text/x-python",
   "name": "python",
   "nbconvert_exporter": "python",
   "pygments_lexer": "ipython3",
   "version": "3.10.18"
  }
 },
 "nbformat": 4,
 "nbformat_minor": 5
}
